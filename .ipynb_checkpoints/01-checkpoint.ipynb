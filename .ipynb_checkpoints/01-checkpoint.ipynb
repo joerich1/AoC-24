{
 "cells": [
  {
   "cell_type": "code",
   "execution_count": 22,
   "id": "1e0778bd-d44b-4c4b-9ab1-8efca6356d5c",
   "metadata": {},
   "outputs": [
    {
     "name": "stdout",
     "output_type": "stream",
     "text": [
      "Part 1: 1189304\n"
     ]
    }
   ],
   "source": [
    "import numpy as np\n",
    "\n",
    "inp_raw = \"\"\"3   4\n",
    "4   3\n",
    "2   5\n",
    "1   3\n",
    "3   9\n",
    "3   3\"\"\"\n",
    "\n",
    "inp = inp_raw.splitlines()\n",
    "\n",
    "with open(\"data/01.txt\") as f:\n",
    "    inp2 = f.readlines() \n",
    "\n",
    "\n",
    "def parse_input(lines):\n",
    "    \n",
    "    ids = [[int(line.split(\"   \")[0]), int(line.split(\"   \")[1])] for line in lines]\n",
    "    ids_np = np.array(ids)\n",
    "\n",
    "    return ids_np\n",
    "\n",
    "\n",
    "def compare_metric(ids):\n",
    "    left = np.sort(ids[:, 0])\n",
    "    right = np.sort(ids[:, 1])\n",
    "    diff = abs(left - right)\n",
    "\n",
    "    return diff.sum()\n",
    "    \n",
    "\n",
    "ids = parse_input(inp2)\n",
    "print(\"Part 1:\", compare_metric(ids))"
   ]
  },
  {
   "cell_type": "code",
   "execution_count": 23,
   "id": "41e2de64-7fd7-4015-8968-3da60628d691",
   "metadata": {},
   "outputs": [
    {
     "name": "stdout",
     "output_type": "stream",
     "text": [
      "Part 2: 24349736\n"
     ]
    }
   ],
   "source": [
    "def similarity_score(ids):\n",
    "    score = 0\n",
    "    for i in ids[:, 0]:\n",
    "        count = np.count_nonzero(ids[:, 1] == i)\n",
    "        score += count * i\n",
    "    return score\n",
    "\n",
    "print(\"Part 2:\", similarity_score(ids))"
   ]
  },
  {
   "cell_type": "code",
   "execution_count": null,
   "id": "51807a05-0458-4d25-ad94-7e9a62d4ea8c",
   "metadata": {},
   "outputs": [],
   "source": []
  }
 ],
 "metadata": {
  "kernelspec": {
   "display_name": "Python 3 (ipykernel)",
   "language": "python",
   "name": "python3"
  },
  "language_info": {
   "codemirror_mode": {
    "name": "ipython",
    "version": 3
   },
   "file_extension": ".py",
   "mimetype": "text/x-python",
   "name": "python",
   "nbconvert_exporter": "python",
   "pygments_lexer": "ipython3",
   "version": "3.9.19"
  }
 },
 "nbformat": 4,
 "nbformat_minor": 5
}
