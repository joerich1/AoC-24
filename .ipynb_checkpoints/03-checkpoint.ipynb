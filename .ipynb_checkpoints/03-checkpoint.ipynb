{
 "cells": [
  {
   "cell_type": "code",
   "execution_count": 45,
   "id": "5095cc7d-9b2c-4d58-9843-0c0eef9328f5",
   "metadata": {},
   "outputs": [
    {
     "name": "stdout",
     "output_type": "stream",
     "text": [
      "Part 1: 174960292\n"
     ]
    }
   ],
   "source": [
    "import re\n",
    "\n",
    "test = [\"xmul(2,4)&mul[3,7]!^don't()_mul(5,5)+mul(32,64](mul(11,8)undo()?mul(8,5))\"]\n",
    "\n",
    "with open(\"data/03.txt\") as f:\n",
    "    inp = f.readlines() \n",
    "\n",
    "def parse_input(text, pattern):\n",
    "    instructions = []\n",
    "        \n",
    "    for line in text:\n",
    "        \n",
    "        matches = re.findall(pattern, line)\n",
    "        \n",
    "        for m in matches:\n",
    "            if (m == \"don't()\") or (m == \"do()\"):\n",
    "                instructions.append(m)\n",
    "            \n",
    "            else:\n",
    "                left, right = m.split(\"(\")[1].split(\",\")\n",
    "                instructions.append([int(left), int(right[:-1])])\n",
    "\n",
    "    return instructions\n",
    "\n",
    "pattern = r\"mul\\(\\d{1,3},\\d{1,3}\\)\"\n",
    "instructions = parse_input(inp, pattern)\n",
    "\n",
    "total_product = 0\n",
    "for pair in instructions:\n",
    "    total_product += pair[0] * pair[1]\n",
    "\n",
    "print(\"Part 1:\", total_product)"
   ]
  },
  {
   "cell_type": "code",
   "execution_count": 46,
   "id": "65362df6-852f-40f9-906f-9c3d374047e7",
   "metadata": {
    "scrolled": true
   },
   "outputs": [
    {
     "name": "stdout",
     "output_type": "stream",
     "text": [
      "Part 2: 56275602\n"
     ]
    }
   ],
   "source": [
    "pattern = r\"mul\\(\\d{1,3},\\d{1,3}\\)|do\\(\\)|don't\\(\\)\"\n",
    "instructions = parse_input(inp, pattern)\n",
    "\n",
    "total_product = 0\n",
    "do = True\n",
    "\n",
    "for instruction in instructions:\n",
    "    if instruction == \"don't()\":\n",
    "        do = False\n",
    "    elif instruction == \"do()\":\n",
    "        do = True\n",
    "    else:\n",
    "        if do:\n",
    "            total_product += instruction[0] * instruction[1]\n",
    "\n",
    "print(\"Part 2:\", total_product)"
   ]
  },
  {
   "cell_type": "code",
   "execution_count": null,
   "id": "cc18d8a8-dfce-4ccb-8492-b5878967645d",
   "metadata": {},
   "outputs": [],
   "source": []
  }
 ],
 "metadata": {
  "kernelspec": {
   "display_name": "Python 3 (ipykernel)",
   "language": "python",
   "name": "python3"
  },
  "language_info": {
   "codemirror_mode": {
    "name": "ipython",
    "version": 3
   },
   "file_extension": ".py",
   "mimetype": "text/x-python",
   "name": "python",
   "nbconvert_exporter": "python",
   "pygments_lexer": "ipython3",
   "version": "3.9.19"
  }
 },
 "nbformat": 4,
 "nbformat_minor": 5
}
