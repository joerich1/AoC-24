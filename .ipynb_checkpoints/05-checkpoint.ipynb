{
 "cells": [
  {
   "cell_type": "code",
   "execution_count": 1,
   "id": "cc6bd5f0-3172-4888-8125-b8f25c04db35",
   "metadata": {},
   "outputs": [
    {
     "data": {
      "text/plain": [
       "['Bill Murray', 'Dan Ackroyd', 'Annie Potts', 'Harold Ramis']"
      ]
     },
     "execution_count": 1,
     "metadata": {},
     "output_type": "execute_result"
    }
   ],
   "source": [
    "import numpy as np\n",
    "\n",
    "test_raw = \"\"\"Bill Murray\n",
    "Dan Ackroyd\n",
    "Annie Potts\n",
    "Harold Ramis\n",
    "Rick Moranis\n",
    "\"\"\"\n",
    "\n",
    "test = test_raw.splitlines()\n",
    "\n",
    "with open(\"data/04.txt\") as f:\n",
    "    inp = f.readlines() \n",
    "\n",
    "\n",
    "def parse_input(lines):\n",
    "    \n",
    "    return lines\n",
    "\n",
    "parse_input(test)"
   ]
  },
  {
   "cell_type": "code",
   "execution_count": null,
   "id": "c1701027-98f5-46fd-b447-59e1a76d2e2c",
   "metadata": {},
   "outputs": [],
   "source": []
  }
 ],
 "metadata": {
  "kernelspec": {
   "display_name": "Python 3 (ipykernel)",
   "language": "python",
   "name": "python3"
  },
  "language_info": {
   "codemirror_mode": {
    "name": "ipython",
    "version": 3
   },
   "file_extension": ".py",
   "mimetype": "text/x-python",
   "name": "python",
   "nbconvert_exporter": "python",
   "pygments_lexer": "ipython3",
   "version": "3.9.19"
  }
 },
 "nbformat": 4,
 "nbformat_minor": 5
}
