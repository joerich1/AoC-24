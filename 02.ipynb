{
 "cells": [
  {
   "cell_type": "code",
   "execution_count": 116,
   "id": "20cdd093-5c89-41f3-978b-d863b2e7c867",
   "metadata": {},
   "outputs": [
    {
     "name": "stdout",
     "output_type": "stream",
     "text": [
      "Part 1: 371\n"
     ]
    }
   ],
   "source": [
    "import numpy as np\n",
    "\n",
    "test_raw = \"\"\"7 6 4 2 1\n",
    "1 2 7 8 9\n",
    "9 7 6 2 1\n",
    "1 3 2 4 5\n",
    "8 6 4 4 1\n",
    "1 3 6 7 9\n",
    "1 10 11 12 14 15\n",
    "78 80 82 83 80 81 82 88\n",
    "\"\"\"\n",
    "\n",
    "test = test_raw.splitlines()\n",
    "\n",
    "with open(\"data/02.txt\") as f:\n",
    "    inp = f.readlines() \n",
    "\n",
    "\n",
    "def parse_input(lines):\n",
    "    reports = [list(map(int, l.split())) for l in lines]\n",
    "    \n",
    "    return reports\n",
    "\n",
    "\n",
    "def is_safe(report_np):\n",
    "    diffs = report_np[1:] - report_np[:-1]\n",
    "    \n",
    "    is_monotonic = np.all(diffs > 0) or np.all(diffs < 0)\n",
    "    has_no_jumps = np.abs(diffs).max() <= 3\n",
    "        \n",
    "    return is_monotonic and has_no_jumps\n",
    "\n",
    "\n",
    "def problem_dampener(report_np):\n",
    "    for i in range(report_np.shape[0]):\n",
    "        reduced = np.delete(report_np, i)\n",
    "        \n",
    "        if is_safe(reduced):\n",
    "            return True\n",
    "\n",
    "    return False\n",
    "\n",
    "\n",
    "reports = parse_input(inp)\n",
    "\n",
    "safe_count = 0\n",
    "for report_i in range(len(reports)):\n",
    "    if is_safe(np.array(reports[report_i])):\n",
    "        safe_count += 1\n",
    "\n",
    "print(\"Part 1:\", safe_count)"
   ]
  },
  {
   "cell_type": "code",
   "execution_count": 117,
   "id": "ce597a01-ab54-46ab-aabf-6523f41b3414",
   "metadata": {
    "scrolled": true
   },
   "outputs": [
    {
     "name": "stdout",
     "output_type": "stream",
     "text": [
      "Part 2: 426\n"
     ]
    }
   ],
   "source": [
    "safe_count = 0\n",
    "for report_i in range(len(reports)):\n",
    "    report = np.array(reports[report_i])\n",
    "    \n",
    "    if is_safe(report):\n",
    "        safe_count += 1\n",
    "    \n",
    "    elif problem_dampener(report):\n",
    "        safe_count += 1\n",
    "\n",
    "print(\"Part 2:\", safe_count)"
   ]
  },
  {
   "cell_type": "code",
   "execution_count": null,
   "id": "02d84c13-668b-4d94-ab72-1701bc82ed55",
   "metadata": {},
   "outputs": [],
   "source": []
  }
 ],
 "metadata": {
  "kernelspec": {
   "display_name": "Python 3 (ipykernel)",
   "language": "python",
   "name": "python3"
  },
  "language_info": {
   "codemirror_mode": {
    "name": "ipython",
    "version": 3
   },
   "file_extension": ".py",
   "mimetype": "text/x-python",
   "name": "python",
   "nbconvert_exporter": "python",
   "pygments_lexer": "ipython3",
   "version": "3.9.19"
  }
 },
 "nbformat": 4,
 "nbformat_minor": 5
}
