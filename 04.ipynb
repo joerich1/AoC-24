{
 "cells": [
  {
   "cell_type": "code",
   "execution_count": 7,
   "id": "2776989d-a7f0-468d-a809-3f5bdfdc08d2",
   "metadata": {
    "scrolled": true
   },
   "outputs": [
    {
     "name": "stdout",
     "output_type": "stream",
     "text": [
      "Part 1: 2543\n"
     ]
    }
   ],
   "source": [
    "import numpy as np\n",
    "\n",
    "test_raw = \"\"\"MMMSXXMASM\n",
    "MSAMXMSMSA\n",
    "AMXSXMAAMM\n",
    "MSAMASMSMX\n",
    "XMASAMXAMM\n",
    "XXAMMXXAMA\n",
    "SMSMSASXSS\n",
    "SAXAMASAAA\n",
    "MAMMMXMMMM\n",
    "MXMXAXMASX\n",
    "\"\"\"\n",
    "\n",
    "test = test_raw.splitlines()\n",
    "\n",
    "with open(\"data/04.txt\") as f:\n",
    "    inp = f.readlines()\n",
    "\n",
    "\n",
    "def parse_input(lines_raw):\n",
    "    lines = [line.strip() for line in lines_raw]\n",
    "    mapping = {'X': 0, 'M': 1, 'A': 2, 'S': 3, '.': 4}\n",
    "    encoded = []\n",
    "    n_cols = []\n",
    "    \n",
    "    for line in lines:\n",
    "        encoded_array = np.array(list(map(mapping.get, line)))\n",
    "        n_cols.append(len(encoded_array))\n",
    "        \n",
    "        encoded.append(encoded_array)\n",
    "            \n",
    "    return np.array(encoded)\n",
    "\n",
    "\n",
    "def count_xmas(grid, pattern):\n",
    "    n_rows, n_cols = grid.shape\n",
    "    n = len(pattern)\n",
    "    count = 0\n",
    "\n",
    "    # rows\n",
    "    for row in grid:\n",
    "        for i in range(n_cols - n + 1):\n",
    "            if np.array_equal(row[i:i+n], pattern) or np.array_equal(row[i:i+n], pattern[::-1]):\n",
    "                count += 1\n",
    "\n",
    "    # columns\n",
    "    for col in grid.T:\n",
    "        for i in range(n_rows - n + 1):\n",
    "            if np.array_equal(col[i:i+n], pattern) or np.array_equal(col[i:i+n], pattern[::-1]):\n",
    "                count += 1\n",
    "\n",
    "    # diagonals\n",
    "    for offset in range(-n_rows + n, n_cols - n + 1):\n",
    "        diag = np.diag(grid, k=offset)\n",
    "        anti_diag = np.diag(np.fliplr(grid), k=offset)\n",
    "\n",
    "        for i in range(len(diag) - n + 1):\n",
    "            if np.array_equal(diag[i:i+n], pattern) or np.array_equal(diag[i:i+n], pattern[::-1]):\n",
    "                count += 1\n",
    "\n",
    "        for i in range(len(anti_diag) - n + 1):\n",
    "            if np.array_equal(anti_diag[i:i+n], pattern) or np.array_equal(anti_diag[i:i+n], pattern[::-1]):\n",
    "                count += 1\n",
    "\n",
    "    return count\n",
    "\n",
    "        \n",
    "encoded = parse_input(inp)\n",
    "print(\"Part 1:\", count_xmas(encoded, np.arange(4)))"
   ]
  },
  {
   "cell_type": "code",
   "execution_count": 8,
   "id": "1231686b-0a7f-45c4-84bb-262dca8f294b",
   "metadata": {},
   "outputs": [
    {
     "name": "stdout",
     "output_type": "stream",
     "text": [
      "Part 2: 1930\n"
     ]
    }
   ],
   "source": [
    "def has_x_mas(vector, matrix):\n",
    "    main_diag = np.diag(matrix)\n",
    "    anti_diag = np.diag(np.fliplr(matrix))\n",
    "    \n",
    "    return sum(np.array_equal(vector, diag) or np.array_equal(vector[::-1], diag) \n",
    "               for diag in (main_diag, anti_diag)) == 2\n",
    "\n",
    "\n",
    "def convolve(encoded, verbose):\n",
    "    kernel = np.arange(1, 4)\n",
    "    \n",
    "    return sum(\n",
    "        has_x_mas(kernel, encoded[i:i+3, j:j+3])\n",
    "        for i in range(encoded.shape[0] - 2)\n",
    "        for j in range(encoded.shape[1] - 2)\n",
    "    )\n",
    "\n",
    "encoded = parse_input(inp)\n",
    "print(\"Part 2:\", convolve(encoded, verbose=False))"
   ]
  },
  {
   "cell_type": "code",
   "execution_count": null,
   "id": "f90e3d13-23e5-435e-a82b-9cacab2fbdc2",
   "metadata": {},
   "outputs": [],
   "source": []
  }
 ],
 "metadata": {
  "kernelspec": {
   "display_name": "Python 3 (ipykernel)",
   "language": "python",
   "name": "python3"
  },
  "language_info": {
   "codemirror_mode": {
    "name": "ipython",
    "version": 3
   },
   "file_extension": ".py",
   "mimetype": "text/x-python",
   "name": "python",
   "nbconvert_exporter": "python",
   "pygments_lexer": "ipython3",
   "version": "3.9.19"
  }
 },
 "nbformat": 4,
 "nbformat_minor": 5
}
