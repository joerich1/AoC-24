{
 "cells": [
  {
   "cell_type": "code",
   "execution_count": 1,
   "id": "cc6bd5f0-3172-4888-8125-b8f25c04db35",
   "metadata": {},
   "outputs": [
    {
     "name": "stdout",
     "output_type": "stream",
     "text": [
      "Input saved\n"
     ]
    }
   ],
   "source": [
    "import numpy as np\n",
    "\n",
    "test_raw = \"\"\"47|53\n",
    "97|13\n",
    "97|61\n",
    "97|47\n",
    "75|29\n",
    "61|13\n",
    "75|53\n",
    "29|13\n",
    "97|29\n",
    "53|29\n",
    "61|53\n",
    "97|53\n",
    "61|29\n",
    "47|13\n",
    "75|47\n",
    "97|75\n",
    "47|61\n",
    "75|61\n",
    "47|29\n",
    "75|13\n",
    "53|13\n",
    "\n",
    "75,47,61,53,29\n",
    "97,61,53,29,13\n",
    "75,29,13\n",
    "75,97,47,61,53\n",
    "61,13,29\n",
    "97,13,75,29,47\n",
    "\"\"\"\n",
    "\n",
    "test = test_raw.splitlines()\n",
    "\n",
    "with open(\"data/05.txt\") as f:\n",
    "    inp = f.readlines() \n",
    "\n",
    "print(\"Input saved\")"
   ]
  },
  {
   "cell_type": "code",
   "execution_count": 2,
   "id": "0ab3b1cc-46ee-44bd-b07b-6225dd863579",
   "metadata": {},
   "outputs": [
    {
     "name": "stdout",
     "output_type": "stream",
     "text": [
      "Part 1: 6384\n"
     ]
    }
   ],
   "source": [
    "def parse_input(lines, pattern):\n",
    "    i = 0\n",
    "    rules = []\n",
    "    updates = []\n",
    "\n",
    "    # capture the rules\n",
    "    while lines[i] != pattern: \n",
    "        left, right = lines[i].split(\"|\")\n",
    "        left = int(left)\n",
    "        right = int(right)\n",
    "        rules.append([left, right])\n",
    "        \n",
    "        i += 1\n",
    "\n",
    "    # skip empty line\n",
    "    i += 1\n",
    "\n",
    "    # capture the updates\n",
    "    while i < len(lines): \n",
    "        updates.append(lines[i].split(\",\"))\n",
    "        i += 1\n",
    "\n",
    "    updates_int = [[int(page) for page in update] for update in updates]\n",
    "    \n",
    "    return np.array(rules), updates_int\n",
    "\n",
    "\n",
    "def is_correct_order(update, rules):\n",
    "    pages_history = []\n",
    "    \n",
    "    for i, current_page in enumerate(update):\n",
    "        consequents = rules[rules[:, 1] == int(current_page)]\n",
    "        antecedents = consequents[:, 0]\n",
    "    \n",
    "        for check_page in antecedents:\n",
    "            if check_page in update[i:]: \n",
    "                return False\n",
    "        \n",
    "        pages_history.append(current_page)\n",
    "\n",
    "    return True\n",
    "\n",
    "\n",
    "rules, updates = parse_input(inp, pattern=\"\\n\")\n",
    "incorrect_updates = []\n",
    "middle_numbers = []\n",
    "\n",
    "for update in updates:\n",
    "    if is_correct_order(update, rules):\n",
    "        ind = len(update) // 2\n",
    "        middle_numbers.append(update[ind])\n",
    "    \n",
    "    else:\n",
    "        incorrect_updates.append(update)\n",
    "\n",
    "print(\"Part 1:\", sum(middle_numbers))"
   ]
  },
  {
   "cell_type": "code",
   "execution_count": 3,
   "id": "fc460a04-f532-4781-9056-2f4dc9a79eaa",
   "metadata": {},
   "outputs": [
    {
     "name": "stdout",
     "output_type": "stream",
     "text": [
      "Part 2: 5353\n"
     ]
    }
   ],
   "source": [
    "def sort_update(update, rules):\n",
    "    rule_set = set(map(tuple, rules))\n",
    "    n = len(update)\n",
    "    changed = True\n",
    "\n",
    "    while changed:\n",
    "        changed = False\n",
    "        for i in range(n - 1):\n",
    "            # If the order of two pages violates a rule, swap them\n",
    "            if (update[i+1], update[i]) in rule_set:  # Violates rule\n",
    "                update[i], update[i+1] = update[i+1], update[i]\n",
    "                changed = True\n",
    "\n",
    "    return update\n",
    "\n",
    "sorted_updates = [sort_update(update, rules) for update in incorrect_updates]\n",
    "\n",
    "middle_numbers = []\n",
    "\n",
    "for update in sorted_updates:\n",
    "    if is_correct_order(update, rules):\n",
    "        ind = len(update) // 2\n",
    "        middle_numbers.append(update[ind])\n",
    "    \n",
    "print(\"Part 2:\", sum(middle_numbers))"
   ]
  },
  {
   "cell_type": "code",
   "execution_count": null,
   "id": "d646f34a-4ea6-4ef4-be43-802d3af0a007",
   "metadata": {},
   "outputs": [],
   "source": []
  }
 ],
 "metadata": {
  "kernelspec": {
   "display_name": "Python 3 (ipykernel)",
   "language": "python",
   "name": "python3"
  },
  "language_info": {
   "codemirror_mode": {
    "name": "ipython",
    "version": 3
   },
   "file_extension": ".py",
   "mimetype": "text/x-python",
   "name": "python",
   "nbconvert_exporter": "python",
   "pygments_lexer": "ipython3",
   "version": "3.9.19"
  }
 },
 "nbformat": 4,
 "nbformat_minor": 5
}
