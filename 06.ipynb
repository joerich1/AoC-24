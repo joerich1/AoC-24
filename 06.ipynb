{
 "cells": [
  {
   "cell_type": "code",
   "execution_count": 21,
   "id": "39a11c2d-7ba6-47b7-8458-631f3577eda8",
   "metadata": {},
   "outputs": [
    {
     "name": "stdout",
     "output_type": "stream",
     "text": [
      "Result: 4883\n"
     ]
    }
   ],
   "source": [
    "import numpy as np\n",
    "\n",
    "test_raw = \"\"\"....#.....\n",
    ".........#\n",
    "..........\n",
    "..#.......\n",
    ".......#..\n",
    "..........\n",
    ".#..^.....\n",
    "........#.\n",
    "#.........\n",
    "......#...\"\"\"\n",
    "\n",
    "test = test_raw.splitlines()\n",
    "\n",
    "with open(\"data/06.txt\") as f:\n",
    "    inp = f.readlines() \n",
    "\n",
    "\n",
    "\n",
    "def parse_input(lines_raw):\n",
    "    lines = [line.strip() for line in lines_raw]\n",
    "    mapping = {'^': 7, '.': 0, '#': 9}\n",
    "    encoded = []\n",
    "    \n",
    "    for line in lines:\n",
    "        encoded_array = np.array(list(map(mapping.get, line)))\n",
    "        encoded.append(encoded_array)\n",
    "            \n",
    "    return np.array(encoded)\n",
    "\n",
    "\n",
    "array_map = parse_input(inp)\n",
    "array_map = np.rot90(array_map, k=3, axes=(0, 1))\n",
    "\n",
    "current_row, current_col = np.argwhere(array_map == 7)[0]\n",
    "\n",
    "while current_col < array_map.shape[1] - 1:  # Prevent index out of bounds\n",
    "    if array_map[current_row, current_col + 1] != 9:  # Check next column\n",
    "        array_map[current_row, current_col] = 1\n",
    "        current_col += 1\n",
    "        array_map[current_row, current_col] = 7\n",
    "    else:\n",
    "        array_map = np.rot90(array_map, k=1, axes=(0, 1))\n",
    "        current_row, current_col = np.argwhere(array_map == 7)[0]\n",
    "\n",
    "result = array_map[array_map == 1].shape[0]\n",
    "print(\"Result:\", result+1)"
   ]
  },
  {
   "cell_type": "code",
   "execution_count": null,
   "id": "d77a20e9-c93f-4583-8ca0-9acb905c5140",
   "metadata": {},
   "outputs": [],
   "source": []
  }
 ],
 "metadata": {
  "kernelspec": {
   "display_name": "Python 3 (ipykernel)",
   "language": "python",
   "name": "python3"
  },
  "language_info": {
   "codemirror_mode": {
    "name": "ipython",
    "version": 3
   },
   "file_extension": ".py",
   "mimetype": "text/x-python",
   "name": "python",
   "nbconvert_exporter": "python",
   "pygments_lexer": "ipython3",
   "version": "3.9.19"
  }
 },
 "nbformat": 4,
 "nbformat_minor": 5
}
