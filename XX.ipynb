{
 "cells": [
  {
   "cell_type": "code",
   "execution_count": 1,
   "id": "39a11c2d-7ba6-47b7-8458-631f3577eda8",
   "metadata": {},
   "outputs": [
    {
     "data": {
      "text/plain": [
       "['Bill Murray', 'Dan Ackroyd', 'Annie Potts', 'Harold Ramis', 'Rick Moranis']"
      ]
     },
     "execution_count": 1,
     "metadata": {},
     "output_type": "execute_result"
    }
   ],
   "source": [
    "import numpy as np\n",
    "\n",
    "test_raw = \"\"\"Bill Murray\n",
    "Dan Ackroyd\n",
    "Annie Potts\n",
    "Harold Ramis\n",
    "Rick Moranis\n",
    "\"\"\"\n",
    "\n",
    "test = test_raw.splitlines()\n",
    "\n",
    "with open(\"data/06.txt\") as f:\n",
    "    inp = f.readlines() \n",
    "\n",
    "\n",
    "def parse_input(lines):\n",
    "    \n",
    "    return lines\n",
    "\n",
    "parse_input(test)"
   ]
  },
  {
   "cell_type": "code",
   "execution_count": null,
   "id": "d77a20e9-c93f-4583-8ca0-9acb905c5140",
   "metadata": {},
   "outputs": [],
   "source": []
  }
 ],
 "metadata": {
  "kernelspec": {
   "display_name": "Python 3 (ipykernel)",
   "language": "python",
   "name": "python3"
  },
  "language_info": {
   "codemirror_mode": {
    "name": "ipython",
    "version": 3
   },
   "file_extension": ".py",
   "mimetype": "text/x-python",
   "name": "python",
   "nbconvert_exporter": "python",
   "pygments_lexer": "ipython3",
   "version": "3.9.19"
  }
 },
 "nbformat": 4,
 "nbformat_minor": 5
}
